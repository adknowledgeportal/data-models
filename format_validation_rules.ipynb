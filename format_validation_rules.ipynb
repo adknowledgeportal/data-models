{
 "cells": [
  {
   "cell_type": "markdown",
   "metadata": {},
   "source": [
    "I need a function that takes the validation yaml and makes a long ugly string to paste into the csv data model."
   ]
  },
  {
   "cell_type": "code",
   "execution_count": 117,
   "metadata": {},
   "outputs": [],
   "source": [
    "import yaml\n",
    "import pandas as pd\n",
    "import os"
   ]
  },
  {
   "cell_type": "code",
   "execution_count": 2,
   "metadata": {},
   "outputs": [],
   "source": [
    "# Load the YAML file\n",
    "file_path = './ID_attribute_validation_rules.yml'\n",
    "\n",
    "with open(file_path, 'r') as file:\n",
    "    yaml_data = yaml.safe_load(file)"
   ]
  },
  {
   "cell_type": "code",
   "execution_count": 111,
   "metadata": {},
   "outputs": [],
   "source": [
    "# per attribute, construct component-based rules per manifest and format as continuous string with separators expected by schematic\n",
    "\n",
    "intermediate_dict = {}\n",
    "transformed_dict = {}\n",
    "transformed_dict['attribute_name'] = []\n",
    "transformed_dict['attribute_rules'] = []\n",
    "\n",
    "for attribute in yaml_data['attributes']:\n",
    "    #attribute_rules = yaml_data['attributes']\n",
    "    attribute_name = attribute['attribute']\n",
    "    intermediate_dict['manifest_rules'] = []\n",
    "    for manifest in attribute['rules_applied_to_manifests']:\n",
    "        manifest_name = manifest['manifest']\n",
    "        rule_string = ' '.join(manifest['rules'])\n",
    "        level = manifest['level']\n",
    "        manifest_rules = f'#{manifest_name} {rule_string} {level}^^'\n",
    "        intermediate_dict['manifest_rules'].append(manifest_rules)\n",
    "    transformed_dict['attribute_name'].append(attribute_name)\n",
    "    transformed_dict['attribute_rules'].append(''.join(intermediate_dict['manifest_rules']))\n",
    "        "
   ]
  },
  {
   "cell_type": "code",
   "execution_count": 114,
   "metadata": {},
   "outputs": [],
   "source": [
    "# format as dataframe\n",
    "rules_df = pd.DataFrame.from_dict(transformed_dict)"
   ]
  },
  {
   "cell_type": "code",
   "execution_count": 118,
   "metadata": {},
   "outputs": [],
   "source": [
    "def find_csv_files(directory):\n",
    "    csv_files = []\n",
    "    for root, dirs, files in os.walk(directory):\n",
    "        for file in files:\n",
    "            if file.endswith(\".csv\"):\n",
    "                csv_files.append(os.path.join(root, file))\n",
    "    return csv_files"
   ]
  },
  {
   "cell_type": "code",
   "execution_count": 121,
   "metadata": {},
   "outputs": [],
   "source": [
    "csv_files = find_csv_files('modules/')"
   ]
  },
  {
   "cell_type": "code",
   "execution_count": 135,
   "metadata": {},
   "outputs": [],
   "source": [
    "attributes_with_val_rules = []\n",
    "for file in csv_files:\n",
    "    for attribute in rules_df['attribute_name']:\n",
    "        if attribute in os.path.basename(file):\n",
    "            attributes_with_val_rules.append(file)\n"
   ]
  },
  {
   "cell_type": "code",
   "execution_count": 137,
   "metadata": {},
   "outputs": [],
   "source": [
    "ind_df = pd.read_csv('modules/individual/individualID.csv')"
   ]
  },
  {
   "cell_type": "code",
   "execution_count": 165,
   "metadata": {},
   "outputs": [
    {
     "data": {
      "text/plain": [
       "0    #IndividualHumanMetadataTemplate matchExactlyO...\n",
       "Name: attribute_rules, dtype: object"
      ]
     },
     "execution_count": 165,
     "metadata": {},
     "output_type": "execute_result"
    }
   ],
   "source": [
    "rules_df.loc[rules_df['attribute_name'] == 'individualID']['attribute_rules']"
   ]
  },
  {
   "cell_type": "code",
   "execution_count": 163,
   "metadata": {},
   "outputs": [
    {
     "name": "stderr",
     "output_type": "stream",
     "text": [
      "/var/folders/dk/0kvw_jgs0x36k4d9nls882hc0000gq/T/ipykernel_87310/1027455809.py:1: SettingWithCopyWarning: \n",
      "A value is trying to be set on a copy of a slice from a DataFrame\n",
      "\n",
      "See the caveats in the documentation: https://pandas.pydata.org/pandas-docs/stable/user_guide/indexing.html#returning-a-view-versus-a-copy\n",
      "  ind_df.iloc[0]['Validation Rules'] = str(rules_df.loc[rules_df['attribute_name'] == 'individualID', 'attribute_rules'])\n"
     ]
    }
   ],
   "source": [
    "ind_df.iloc[0]['Validation Rules'] = str(rules_df.loc[rules_df['attribute_name'] == 'individualID', 'attribute_rules'])"
   ]
  },
  {
   "cell_type": "code",
   "execution_count": 162,
   "metadata": {},
   "outputs": [
    {
     "data": {
      "text/plain": [
       "0    '#IndividualHumanMetadataTemplate matchExactly...\n",
       "Name: Validation Rules, dtype: object"
      ]
     },
     "execution_count": 162,
     "metadata": {},
     "output_type": "execute_result"
    }
   ],
   "source": [
    "ind_df.loc['']"
   ]
  },
  {
   "cell_type": "code",
   "execution_count": 136,
   "metadata": {},
   "outputs": [
    {
     "name": "stdout",
     "output_type": "stream",
     "text": [
      "    Attribute                                        Description  \\\n",
      "0  specimenID  Identifying string linked to a particular samp...   \n",
      "\n",
      "   Valid Values  DependsOn  Properties  Required          Parent  \\\n",
      "0           NaN        NaN         NaN     False  ManifestColumn   \n",
      "\n",
      "   DependsOn Component                                             Source  \\\n",
      "0                  NaN  sage.annotations-experimentalData.specimenID-0...   \n",
      "\n",
      "                                    Validation Rules columnType       module  \n",
      "0  '#BiospecimenMetadataTemplate unique^^required...     string  biospecimen  \n",
      "      Attribute                                        Description  \\\n",
      "0  individualID  Identifying string linked to the individual or...   \n",
      "\n",
      "   Valid Values  DependsOn  Properties  Required          Parent  \\\n",
      "0           NaN        NaN         NaN     False  ManifestColumn   \n",
      "\n",
      "   DependsOn Component                                             Source  \\\n",
      "0                  NaN  sage.annotations-experimentalData.individualID...   \n",
      "\n",
      "                                    Validation Rules columnType      module  \n",
      "0  '#IndividualHumanMetadataTemplate matchExactly...     string  individual  \n"
     ]
    }
   ],
   "source": [
    "# paste the validation rule string into the Validation Rules column for the manifest column row in each attribute csv\n",
    "\n",
    "for attribute in attributes_with_val_rules:\n",
    "\n",
    "    att_df = pd.read_csv(attribute)\n",
    "    print(att_df)"
   ]
  }
 ],
 "metadata": {
  "kernelspec": {
   "display_name": "schematic-latest",
   "language": "python",
   "name": "python3"
  },
  "language_info": {
   "codemirror_mode": {
    "name": "ipython",
    "version": 3
   },
   "file_extension": ".py",
   "mimetype": "text/x-python",
   "name": "python",
   "nbconvert_exporter": "python",
   "pygments_lexer": "ipython3",
   "version": "3.10.9"
  }
 },
 "nbformat": 4,
 "nbformat_minor": 2
}
