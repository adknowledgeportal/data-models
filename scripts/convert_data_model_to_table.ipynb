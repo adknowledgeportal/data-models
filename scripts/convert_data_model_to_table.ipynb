{
 "cells": [
  {
   "cell_type": "code",
   "execution_count": 1,
   "id": "0769c993",
   "metadata": {},
   "outputs": [],
   "source": [
    "import synapseclient\n",
    "import synapseutils\n",
    "from synapseclient import Project, File, Folder\n",
    "from synapseclient import Schema, Column, Table, Row, RowSet, as_table_columns\n",
    "import pandas as pd\n",
    "import itertools"
   ]
  },
  {
   "cell_type": "code",
   "execution_count": 2,
   "id": "bfb95164",
   "metadata": {},
   "outputs": [
    {
     "name": "stderr",
     "output_type": "stream",
     "text": [
      "[WARNING] Logging into Synapse via apikeys will be deprecated by early 2024.  If you've used `rememberMe=True` in the past, you may also be getting this message, please delete your ~/.synapseCache/.session file. This message will disappear if you use a Synapse Personal Access Token to login.\n"
     ]
    },
    {
     "name": "stdout",
     "output_type": "stream",
     "text": [
      "Welcome, Victor Baham!\n",
      "\n"
     ]
    }
   ],
   "source": [
    "syn = synapseclient.Synapse()\n",
    "syn.login()"
   ]
  },
  {
   "cell_type": "code",
   "execution_count": 3,
   "id": "3fa1a8e5",
   "metadata": {},
   "outputs": [],
   "source": [
    "pd.set_option('display.max_columns', None)\n",
    "pd.set_option('display.max_rows', None)"
   ]
  },
  {
   "cell_type": "code",
   "execution_count": 4,
   "id": "014a51ad",
   "metadata": {},
   "outputs": [],
   "source": [
    "# read in AD data model from Github\n",
    "ad_model_df = pd.read_csv('https://raw.githubusercontent.com/adknowledgeportal/data-models/main/AD.model.csv')"
   ]
  },
  {
   "cell_type": "code",
   "execution_count": 6,
   "id": "22cb23cb",
   "metadata": {
    "scrolled": true
   },
   "outputs": [],
   "source": [
    "# add \"admID\" column to uniquely identify rows and explode DataFrame on \"Valid Values\" column\n",
    "# to obtain rows containing unique (key, valid value) pairs\n",
    "ad_model_df['admID'] = ad_model_df.index.astype(str)\n",
    "ad_model_df['admID'] = ad_model_df['admID'].map(lambda x: 'adm' + x.zfill(8))\n",
    "\n",
    "if (type(ad_model_df['Valid Values'][0]) != str):\n",
    "    del ad_model_df\n",
    "    ad_model_df = pd.read_csv('https://raw.githubusercontent.com/adknowledgeportal/data-models/main/AD.model.csv')\n",
    "    ad_model_df['Valid Values'] = ad_model_df['Valid Values'].str.split(\",\")\n",
    "    new_df = ad_model_df.explode('Valid Values', ignore_index=True)"
   ]
  },
  {
   "cell_type": "code",
   "execution_count": 7,
   "id": "ccd9b5da",
   "metadata": {},
   "outputs": [],
   "source": [
    "# find all valid values to drop the rows where \"Attribute\" is one of the valid values\n",
    "mega = \",\".join(ad_model_df['Valid Values'].astype(str))\n",
    "valid_vals = new_df['Valid Values'].astype(str).map(lambda x: x.lstrip()).tolist()\n",
    "valid_vals = [x for x in valid_vals if str(x) != 'nan']"
   ]
  },
  {
   "cell_type": "code",
   "execution_count": 8,
   "id": "76b44c75",
   "metadata": {},
   "outputs": [],
   "source": [
    "# map values to descriptions and value descriptions\n",
    "values = [x for x in ad_model_df['Attribute'].astype(str).tolist() \n",
    "          if x not in ad_model_df['Parent'].astype(str).tolist()]\n",
    "\n",
    "atbr_to_desc = dict(zip(ad_model_df['Attribute'], ad_model_df['Description']))\n",
    "\n",
    "val_to_desc = {x: atbr_to_desc.get(x) for x in values if x not in valid_vals}\n",
    "val_to_val_desc = {x: atbr_to_desc.get(x) for x in values if x in valid_vals}"
   ]
  },
  {
   "cell_type": "code",
   "execution_count": 9,
   "id": "ecc4e244",
   "metadata": {},
   "outputs": [],
   "source": [
    "# fill in value description column conditionally\n",
    "new_df['valueDescription'] = ''\n",
    "\n",
    "new_df['Valid Values'] = new_df['Valid Values'].astype(str).map(lambda x: x.lstrip())\n",
    "\n",
    "for atr in new_df['Valid Values'].astype(str).tolist():\n",
    "    if atr in valid_vals:\n",
    "        new_df.loc[new_df['Valid Values'] == atr, 'valueDescription'] = atbr_to_desc.get(atr)"
   ]
  },
  {
   "cell_type": "code",
   "execution_count": 36,
   "id": "e59ba385",
   "metadata": {},
   "outputs": [],
   "source": [
    "# drop rows where attribute is a valid value\n",
    "attributes = new_df['Attribute'].astype(str).tolist()\n",
    "atrb_in_vv = [a for a in attributes if a in valid_vals]\n",
    "\n",
    "fin_df = new_df[~new_df['Attribute'].isin(atrb_in_vv)]\n",
    "fin_df = fin_df.reset_index(drop=True)"
   ]
  },
  {
   "cell_type": "code",
   "execution_count": 47,
   "id": "1ca94432",
   "metadata": {},
   "outputs": [],
   "source": [
    "# set columns in DataFrame table representing syn53010627 equal to corresponding ones in fin_df\n",
    "annotation_modules_schema = syn.get('syn53010627')\n",
    "annotation_modules_results = syn.tableQuery(f\"SELECT * from {annotation_modules_schema.id}\")\n",
    "annotation_modules_df = pd.read_csv(annotation_modules_results.filepath)\n",
    "\n",
    "annotation_modules_df['key'] = fin_df['Attribute']\n",
    "annotation_modules_df['description'] = fin_df['Description']\n",
    "annotation_modules_df['columnType'] = fin_df['columnType']\n",
    "annotation_modules_df['value'] = fin_df['Valid Values']\n",
    "annotation_modules_df['valueDescription'] = fin_df['valueDescription']\n",
    "annotation_modules_df['source'] = fin_df['Source']\n",
    "annotation_modules_df['module'] = fin_df['module']"
   ]
  },
  {
   "cell_type": "code",
   "execution_count": 53,
   "id": "58a73b8c",
   "metadata": {},
   "outputs": [],
   "source": [
    "# normalize missing values across table\n",
    "annotation_modules_df.loc[annotation_modules_df['value'] == 'nan', 'value'] = ''\n",
    "annotation_modules_df.loc[annotation_modules_df['description'].isna(), 'description'] = ''\n",
    "annotation_modules_df.loc[annotation_modules_df['columnType'].isna(), 'columnType'] = ''\n",
    "annotation_modules_df.loc[annotation_modules_df['maximumSize'].isna(), 'maximumSize'] = ''\n",
    "annotation_modules_df.loc[annotation_modules_df['valueDescription'].isna(), 'valueDescription'] = ''\n",
    "annotation_modules_df.loc[annotation_modules_df['source'].isna(), 'source'] = ''\n",
    "annotation_modules_df.loc[annotation_modules_df['module'].isna(), 'module'] = ''\n",
    "\n",
    "\n",
    "annotation_modules_df.loc[annotation_modules_df['columnType'] == 'boolean', 'value'] = 'True, False'\n",
    "\n",
    "annotation_modules_df.drop_duplicates(keep='first', inplace=True, ignore_index=True)"
   ]
  },
  {
   "cell_type": "code",
   "execution_count": null,
   "id": "2b310e9b",
   "metadata": {},
   "outputs": [],
   "source": [
    "#init_len = 1284\n",
    "# fin_len = 1278... we lost 6 total rows which is consistent with expectations\n",
    "syn.store(Table('syn53010627', annotation_modules_df))"
   ]
  }
 ],
 "metadata": {
  "kernelspec": {
   "display_name": "Python 3 (ipykernel)",
   "language": "python",
   "name": "python3"
  },
  "language_info": {
   "codemirror_mode": {
    "name": "ipython",
    "version": 3
   },
   "file_extension": ".py",
   "mimetype": "text/x-python",
   "name": "python",
   "nbconvert_exporter": "python",
   "pygments_lexer": "ipython3",
   "version": "3.9.13"
  }
 },
 "nbformat": 4,
 "nbformat_minor": 5
}
